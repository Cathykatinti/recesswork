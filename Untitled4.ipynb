{
 "cells": [
  {
   "cell_type": "code",
   "execution_count": 15,
   "id": "cab7210c",
   "metadata": {},
   "outputs": [
    {
     "name": "stdout",
     "output_type": "stream",
     "text": [
      "               Timestamp         gender   Age  emotion   YOB     CGPA  \\\n",
      "0    05/07/2023 09:38:39           Male  21.0  Content  2002     4.22   \n",
      "1    05/07/2023 09:38:57  Marabou stock  45.0    Weird  2100      8.9   \n",
      "2    05/07/2023 09:39:09        Female   20.0    Happy  2002     3.98   \n",
      "3    05/07/2023 09:39:12           Male  21.0    Happy  2003     4.37   \n",
      "4    05/07/2023 09:39:14         Female  21.0    Happy  2002     3.63   \n",
      "..                   ...            ...   ...      ...   ...      ...   \n",
      "164  05/07/2023 09:44:09           Male  22.0   Angry   1999      3.5   \n",
      "165  05/07/2023 09:44:14           male  23.0      sad  1999        4   \n",
      "166  05/07/2023 09:44:15           male  20.0     calm  2002      3.7   \n",
      "167  05/07/2023 09:44:35         Female  21.0      sad  2001      3.8   \n",
      "168  05/07/2023 09:45:13         Female  20.0    Happy  2022  4......   \n",
      "\n",
      "    Do you have a Girl Friend or BOY Friend Do you have Depression?  \\\n",
      "0                                        No                      No   \n",
      "1                                       Yes                     Yes   \n",
      "2                                        No                      No   \n",
      "3                                        No                      No   \n",
      "4                                        No                      No   \n",
      "..                                      ...                     ...   \n",
      "164                                    Yes                       No   \n",
      "165                                      no                      no   \n",
      "166                                     yes                      no   \n",
      "167                                      no                      no   \n",
      "168                                      no                      no   \n",
      "\n",
      "    Do you have Anxiety? Do you have Panic attack?  \\\n",
      "0                    Yes                       Yes   \n",
      "1                    Yes                       Yes   \n",
      "2                    Yes                       Yes   \n",
      "3                     No                        No   \n",
      "4                     No                        No   \n",
      "..                   ...                       ...   \n",
      "164                   No                       No    \n",
      "165                   no                        no   \n",
      "166                   no                        no   \n",
      "167                  yes                        no   \n",
      "168                   no                       yes   \n",
      "\n",
      "    Did you have seek any specialist for a treatment?   Duration  Pulse  \\\n",
      "0                                                  Yes        60    110   \n",
      "1                                                   No        60    117   \n",
      "2                                                   No        60    103   \n",
      "3                                                 Nope        45    109   \n",
      "4                                                   No        45    117   \n",
      "..                                                 ...       ...    ...   \n",
      "164                                                 No        60    105   \n",
      "165                                                 no        60    110   \n",
      "166                                                 no        60    115   \n",
      "167                                                 no        75    120   \n",
      "168                                                 no        75    125   \n",
      "\n",
      "     Maxpulse  Calories  \n",
      "0         130     409.1  \n",
      "1         145     479.0  \n",
      "2         135     340.0  \n",
      "3         175     282.4  \n",
      "4         148     406.0  \n",
      "..        ...       ...  \n",
      "164       140     290.8  \n",
      "165       145     300.0  \n",
      "166       145     310.2  \n",
      "167       150     320.4  \n",
      "168       150     330.4  \n",
      "\n",
      "[169 rows x 15 columns]\n",
      "(169, 15)\n"
     ]
    }
   ],
   "source": [
    "import numpy as np\n",
    "import pandas as pd\n",
    "\n",
    "#displays the dataset data i.e rows and columns\n",
    "df = pd.read_csv(\"bse_dataset4.csv\")\n",
    "print(df)\n",
    "print(df.shape)"
   ]
  },
  {
   "cell_type": "code",
   "execution_count": 5,
   "id": "82846f56",
   "metadata": {},
   "outputs": [
    {
     "name": "stdout",
     "output_type": "stream",
     "text": [
      "             Timestamp         gender   Age  emotion   YOB  CGPA  \\\n",
      "0  05/07/2023 09:38:39           Male  21.0  Content  2002  4.22   \n",
      "1  05/07/2023 09:38:57  Marabou stock  45.0    Weird  2100   8.9   \n",
      "2  05/07/2023 09:39:09        Female   20.0    Happy  2002  3.98   \n",
      "3  05/07/2023 09:39:12           Male  21.0    Happy  2003  4.37   \n",
      "4  05/07/2023 09:39:14         Female  21.0    Happy  2002  3.63   \n",
      "\n",
      "  Do you have a Girl Friend or BOY Friend Do you have Depression?  \\\n",
      "0                                      No                      No   \n",
      "1                                     Yes                     Yes   \n",
      "2                                      No                      No   \n",
      "3                                      No                      No   \n",
      "4                                      No                      No   \n",
      "\n",
      "  Do you have Anxiety? Do you have Panic attack?  \\\n",
      "0                  Yes                       Yes   \n",
      "1                  Yes                       Yes   \n",
      "2                  Yes                       Yes   \n",
      "3                   No                        No   \n",
      "4                   No                        No   \n",
      "\n",
      "  Did you have seek any specialist for a treatment?   Duration  Pulse  \\\n",
      "0                                                Yes        60    110   \n",
      "1                                                 No        60    117   \n",
      "2                                                 No        60    103   \n",
      "3                                               Nope        45    109   \n",
      "4                                                 No        45    117   \n",
      "\n",
      "   Maxpulse  Calories  \n",
      "0       130     409.1  \n",
      "1       145     479.0  \n",
      "2       135     340.0  \n",
      "3       175     282.4  \n",
      "4       148     406.0  \n"
     ]
    }
   ],
   "source": [
    "#displays at the beginning of the dataset i.e some few columns and rows\n",
    "print(df.head())"
   ]
  },
  {
   "cell_type": "code",
   "execution_count": 6,
   "id": "da18dbc2",
   "metadata": {},
   "outputs": [
    {
     "name": "stdout",
     "output_type": "stream",
     "text": [
      "               Timestamp  gender   Age emotion   YOB     CGPA  \\\n",
      "164  05/07/2023 09:44:09    Male  22.0  Angry   1999      3.5   \n",
      "165  05/07/2023 09:44:14    male  23.0     sad  1999        4   \n",
      "166  05/07/2023 09:44:15    male  20.0    calm  2002      3.7   \n",
      "167  05/07/2023 09:44:35  Female  21.0     sad  2001      3.8   \n",
      "168  05/07/2023 09:45:13  Female  20.0   Happy  2022  4......   \n",
      "\n",
      "    Do you have a Girl Friend or BOY Friend Do you have Depression?  \\\n",
      "164                                    Yes                       No   \n",
      "165                                      no                      no   \n",
      "166                                     yes                      no   \n",
      "167                                      no                      no   \n",
      "168                                      no                      no   \n",
      "\n",
      "    Do you have Anxiety? Do you have Panic attack?  \\\n",
      "164                   No                       No    \n",
      "165                   no                        no   \n",
      "166                   no                        no   \n",
      "167                  yes                        no   \n",
      "168                   no                       yes   \n",
      "\n",
      "    Did you have seek any specialist for a treatment?   Duration  Pulse  \\\n",
      "164                                                 No        60    105   \n",
      "165                                                 no        60    110   \n",
      "166                                                 no        60    115   \n",
      "167                                                 no        75    120   \n",
      "168                                                 no        75    125   \n",
      "\n",
      "     Maxpulse  Calories  \n",
      "164       140     290.8  \n",
      "165       145     300.0  \n",
      "166       145     310.2  \n",
      "167       150     320.4  \n",
      "168       150     330.4  \n"
     ]
    }
   ],
   "source": [
    "#displays some few data at the end of the dataset i.e few columns and rows\n",
    "print(df.tail())"
   ]
  },
  {
   "cell_type": "code",
   "execution_count": 7,
   "id": "32926a2d",
   "metadata": {},
   "outputs": [
    {
     "name": "stdout",
     "output_type": "stream",
     "text": [
      "<class 'pandas.core.frame.DataFrame'>\n",
      "RangeIndex: 169 entries, 0 to 168\n",
      "Data columns (total 15 columns):\n",
      " #   Column                                              Non-Null Count  Dtype  \n",
      "---  ------                                              --------------  -----  \n",
      " 0   Timestamp                                           168 non-null    object \n",
      " 1   gender                                              169 non-null    object \n",
      " 2   Age                                                 167 non-null    float64\n",
      " 3   emotion                                             168 non-null    object \n",
      " 4   YOB                                                 169 non-null    object \n",
      " 5   CGPA                                                169 non-null    object \n",
      " 6   Do you have a Girl Friend or BOY Friend             169 non-null    object \n",
      " 7   Do you have Depression?                             169 non-null    object \n",
      " 8   Do you have Anxiety?                                169 non-null    object \n",
      " 9   Do you have Panic attack?                           169 non-null    object \n",
      " 10  Did you have seek any specialist for a treatment?   169 non-null    object \n",
      " 11  Duration                                            169 non-null    int64  \n",
      " 12  Pulse                                               169 non-null    int64  \n",
      " 13  Maxpulse                                            169 non-null    int64  \n",
      " 14  Calories                                            164 non-null    float64\n",
      "dtypes: float64(2), int64(3), object(10)\n",
      "memory usage: 19.9+ KB\n",
      "None\n"
     ]
    }
   ],
   "source": [
    "#displays some information about the dataset\n",
    "print(df.info())\n"
   ]
  },
  {
   "cell_type": "code",
   "execution_count": 17,
   "id": "58bde19b",
   "metadata": {
    "scrolled": true
   },
   "outputs": [
    {
     "name": "stdout",
     "output_type": "stream",
     "text": [
      "               Timestamp  gender   Age     emotion   YOB  CGPA  \\\n",
      "5                    NaN  Female  23.0      Happy   2000   3.8   \n",
      "17   05/07/2023 09:39:47    Male  22.0  Frustrated  2001     5   \n",
      "27   05/07/2023 09:40:08    Male  22.0    Not sure  2001  3.74   \n",
      "46   05/07/2023 09:41:01    Male   NaN       Upset  2002  3.71   \n",
      "73   05/07/2023 09:43:05  female   NaN       happy  2002   4.2   \n",
      "78   05/07/2023 09:43:56    Male  21.0         NaN  2002   3.5   \n",
      "91   05/07/2023 09:53:52    Male  22.0       panic  2001  3.78   \n",
      "118  05/07/2023 09:40:25    Male  22.0       Happy  2000   3.7   \n",
      "141  05/07/2023 09:41:30    Male  25.0       Happy  1998     5   \n",
      "\n",
      "    Do you have a Girl Friend or BOY Friend Do you have Depression?  \\\n",
      "5                                        No                      No   \n",
      "17                                       No                      No   \n",
      "27                                       No                     Yes   \n",
      "46                                      Yes                      No   \n",
      "73                                      yes                      no   \n",
      "78                                      Yes                    Nope   \n",
      "91                                      yes                     yes   \n",
      "118                                     Yes                      No   \n",
      "141                                     Yes                      No   \n",
      "\n",
      "    Do you have Anxiety? Do you have Panic attack?  \\\n",
      "5                     No                        No   \n",
      "17                    No                        No   \n",
      "27                   Yes                        No   \n",
      "46                    No                        No   \n",
      "73                   yes                        no   \n",
      "78                  Nope                     Nope    \n",
      "91                   yes                       yes   \n",
      "118                  yes                        No   \n",
      "141             I'm calm                        No   \n",
      "\n",
      "    Did you have seek any specialist for a treatment?   Duration  Pulse  \\\n",
      "5                                                   No        60    102   \n",
      "17                                                  No        45     90   \n",
      "27                                                  No        60    103   \n",
      "46                                                  No        60    109   \n",
      "73                                                  no       150     97   \n",
      "78                                                Nope       120    100   \n",
      "91                                                 yes        45    107   \n",
      "118                                                 No        60    105   \n",
      "141                                                 No        60     97   \n",
      "\n",
      "     Maxpulse  Calories  \n",
      "5         127     300.0  \n",
      "17        112       NaN  \n",
      "27        132       NaN  \n",
      "46        153     387.6  \n",
      "73        127     953.2  \n",
      "78        130     500.4  \n",
      "91        137       NaN  \n",
      "118       125       NaN  \n",
      "141       127       NaN  \n",
      "Index(['Timestamp', 'Age', 'emotion', 'Calories'], dtype='object')\n"
     ]
    }
   ],
   "source": [
    "# Display rows with null values\n",
    "df= df[df.isnull().any(axis=1)]\n",
    "print(df)\n",
    "\n",
    "# Display columns with null values\n",
    "df = df.columns[df.isnull().any()]\n",
    "print(df)\n"
   ]
  },
  {
   "cell_type": "code",
   "execution_count": 32,
   "id": "1cc87948",
   "metadata": {},
   "outputs": [
    {
     "name": "stdout",
     "output_type": "stream",
     "text": [
      "Index(['Timestamp', 'Age', 'emotion', 'Calories'], dtype='object')\n"
     ]
    }
   ],
   "source": [
    "df_filled = df.fillna('N/A')\n",
    "print(df_filled)"
   ]
  },
  {
   "cell_type": "code",
   "execution_count": 34,
   "id": "4fb1e88c",
   "metadata": {},
   "outputs": [
    {
     "name": "stdout",
     "output_type": "stream",
     "text": [
      "Index(['Timestamp', 'Age', 'emotion', 'Calories'], dtype='object')\n"
     ]
    }
   ],
   "source": [
    "df_cleaned = df.drop_duplicates()\n",
    "print(df_cleaned)\n"
   ]
  },
  {
   "cell_type": "code",
   "execution_count": null,
   "id": "87f368be",
   "metadata": {},
   "outputs": [],
   "source": []
  }
 ],
 "metadata": {
  "kernelspec": {
   "display_name": "Python 3",
   "language": "python",
   "name": "python3"
  },
  "language_info": {
   "codemirror_mode": {
    "name": "ipython",
    "version": 3
   },
   "file_extension": ".py",
   "mimetype": "text/x-python",
   "name": "python",
   "nbconvert_exporter": "python",
   "pygments_lexer": "ipython3",
   "version": "3.9.13"
  }
 },
 "nbformat": 4,
 "nbformat_minor": 5
}
