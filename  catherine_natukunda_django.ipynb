{
 "cells": [
  {
   "cell_type": "markdown",
   "id": "6972c308",
   "metadata": {},
   "source": [
    " model data u want to present\n",
    " view request handle the returns the relevant template and content\n",
    " template htnml contains webpage layout"
   ]
  }
 ],
 "metadata": {
  "kernelspec": {
   "display_name": "Python 3",
   "language": "python",
   "name": "python3"
  },
  "language_info": {
   "codemirror_mode": {
    "name": "ipython",
    "version": 3
   },
   "file_extension": ".py",
   "mimetype": "text/x-python",
   "name": "python",
   "nbconvert_exporter": "python",
   "pygments_lexer": "ipython3",
   "version": "3.9.13"
  }
 },
 "nbformat": 4,
 "nbformat_minor": 5
}
