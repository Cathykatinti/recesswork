{
 "cells": [
  {
   "cell_type": "code",
   "execution_count": 12,
   "metadata": {},
   "outputs": [],
   "source": [
    "#import libraries\n",
    "import numpy as np\n",
    "import pandas as pd\n",
    "import matplotlib.pyplot as plt\n",
    "import seaborn as sns\n",
    "#control display of seaborn data\n",
    "pd.options.display.max_columns=50\n",
    "sns.set(style=\"darkgrid\",rc={\"axes.facecolor\":'#FFFFFF'})"
   ]
  },
  {
   "attachments": {},
   "cell_type": "markdown",
   "metadata": {},
   "source": [
    "#loading dataset\n",
    "df = pd.read_csv('bsse_dataset.csv)\n",
    "df\n"
   ]
  },
  {
   "cell_type": "code",
   "execution_count": 14,
   "metadata": {},
   "outputs": [
    {
     "data": {
      "text/html": [
       "<div>\n",
       "<style scoped>\n",
       "    .dataframe tbody tr th:only-of-type {\n",
       "        vertical-align: middle;\n",
       "    }\n",
       "\n",
       "    .dataframe tbody tr th {\n",
       "        vertical-align: top;\n",
       "    }\n",
       "\n",
       "    .dataframe thead th {\n",
       "        text-align: right;\n",
       "    }\n",
       "</style>\n",
       "<table border=\"1\" class=\"dataframe\">\n",
       "  <thead>\n",
       "    <tr style=\"text-align: right;\">\n",
       "      <th></th>\n",
       "      <th>Timestamp</th>\n",
       "      <th>What is your gender?</th>\n",
       "      <th>Age</th>\n",
       "      <th>What is your emotion?</th>\n",
       "      <th>Year of birth</th>\n",
       "      <th>What is your CGPA?</th>\n",
       "      <th>Do you have a Girl Friend or BOY Friend</th>\n",
       "      <th>Do you have Depression?</th>\n",
       "      <th>Do you have Anxiety?</th>\n",
       "      <th>Do you have Panic attack?</th>\n",
       "      <th>Did you have seek any specialist for a treatment?</th>\n",
       "    </tr>\n",
       "  </thead>\n",
       "  <tbody>\n",
       "    <tr>\n",
       "      <th>0</th>\n",
       "      <td>05/07/2023 09:38:39</td>\n",
       "      <td>Male</td>\n",
       "      <td>21</td>\n",
       "      <td>Content</td>\n",
       "      <td>2002</td>\n",
       "      <td>4.22</td>\n",
       "      <td>No</td>\n",
       "      <td>No</td>\n",
       "      <td>Yes</td>\n",
       "      <td>Yes</td>\n",
       "      <td>Yes</td>\n",
       "    </tr>\n",
       "    <tr>\n",
       "      <th>1</th>\n",
       "      <td>05/07/2023 09:38:57</td>\n",
       "      <td>Marabou stock</td>\n",
       "      <td>45</td>\n",
       "      <td>Weird</td>\n",
       "      <td>2100</td>\n",
       "      <td>8.9</td>\n",
       "      <td>Yes</td>\n",
       "      <td>Yes</td>\n",
       "      <td>Yes</td>\n",
       "      <td>Yes</td>\n",
       "      <td>No</td>\n",
       "    </tr>\n",
       "    <tr>\n",
       "      <th>2</th>\n",
       "      <td>05/07/2023 09:39:09</td>\n",
       "      <td>Female</td>\n",
       "      <td>20</td>\n",
       "      <td>Happy</td>\n",
       "      <td>2002</td>\n",
       "      <td>3.98</td>\n",
       "      <td>No</td>\n",
       "      <td>No</td>\n",
       "      <td>Yes</td>\n",
       "      <td>Yes</td>\n",
       "      <td>No</td>\n",
       "    </tr>\n",
       "    <tr>\n",
       "      <th>3</th>\n",
       "      <td>05/07/2023 09:39:12</td>\n",
       "      <td>Male</td>\n",
       "      <td>21</td>\n",
       "      <td>Happy</td>\n",
       "      <td>2003</td>\n",
       "      <td>4.37</td>\n",
       "      <td>No</td>\n",
       "      <td>No</td>\n",
       "      <td>No</td>\n",
       "      <td>No</td>\n",
       "      <td>Nope</td>\n",
       "    </tr>\n",
       "    <tr>\n",
       "      <th>4</th>\n",
       "      <td>05/07/2023 09:39:14</td>\n",
       "      <td>Female</td>\n",
       "      <td>21</td>\n",
       "      <td>Happy</td>\n",
       "      <td>2002</td>\n",
       "      <td>3.63</td>\n",
       "      <td>No</td>\n",
       "      <td>No</td>\n",
       "      <td>No</td>\n",
       "      <td>No</td>\n",
       "      <td>No</td>\n",
       "    </tr>\n",
       "    <tr>\n",
       "      <th>...</th>\n",
       "      <td>...</td>\n",
       "      <td>...</td>\n",
       "      <td>...</td>\n",
       "      <td>...</td>\n",
       "      <td>...</td>\n",
       "      <td>...</td>\n",
       "      <td>...</td>\n",
       "      <td>...</td>\n",
       "      <td>...</td>\n",
       "      <td>...</td>\n",
       "      <td>...</td>\n",
       "    </tr>\n",
       "    <tr>\n",
       "      <th>92</th>\n",
       "      <td>05/07/2023 09:53:56</td>\n",
       "      <td>Female</td>\n",
       "      <td>68</td>\n",
       "      <td>Sad</td>\n",
       "      <td>1953</td>\n",
       "      <td>4.8</td>\n",
       "      <td>No</td>\n",
       "      <td>Yes</td>\n",
       "      <td>Yes</td>\n",
       "      <td>Yes</td>\n",
       "      <td>Yes</td>\n",
       "    </tr>\n",
       "    <tr>\n",
       "      <th>93</th>\n",
       "      <td>05/07/2023 09:54:13</td>\n",
       "      <td>Male</td>\n",
       "      <td>29</td>\n",
       "      <td>Hopeful</td>\n",
       "      <td>1994</td>\n",
       "      <td>I don't know yet</td>\n",
       "      <td>Sure, multiple girlfriends</td>\n",
       "      <td>No</td>\n",
       "      <td>No</td>\n",
       "      <td>No</td>\n",
       "      <td>No</td>\n",
       "    </tr>\n",
       "    <tr>\n",
       "      <th>94</th>\n",
       "      <td>05/07/2023 09:54:28</td>\n",
       "      <td>Male</td>\n",
       "      <td>22</td>\n",
       "      <td>Fighting poverty</td>\n",
       "      <td>2001</td>\n",
       "      <td>3.12</td>\n",
       "      <td>Girl friends are thieves</td>\n",
       "      <td>Yes</td>\n",
       "      <td>Yes</td>\n",
       "      <td>No</td>\n",
       "      <td>No</td>\n",
       "    </tr>\n",
       "    <tr>\n",
       "      <th>95</th>\n",
       "      <td>05/07/2023 09:54:36</td>\n",
       "      <td>Male</td>\n",
       "      <td>23</td>\n",
       "      <td>good and bad</td>\n",
       "      <td>2000</td>\n",
       "      <td>3.5</td>\n",
       "      <td>Namiiro Zahara Bidin</td>\n",
       "      <td>No</td>\n",
       "      <td>No</td>\n",
       "      <td>No</td>\n",
       "      <td>No</td>\n",
       "    </tr>\n",
       "    <tr>\n",
       "      <th>96</th>\n",
       "      <td>05/07/2023 09:54:52</td>\n",
       "      <td>male</td>\n",
       "      <td>30</td>\n",
       "      <td>hunger</td>\n",
       "      <td>2023</td>\n",
       "      <td>5</td>\n",
       "      <td>ARI</td>\n",
       "      <td>no</td>\n",
       "      <td>yeah</td>\n",
       "      <td>nah</td>\n",
       "      <td>yeah</td>\n",
       "    </tr>\n",
       "  </tbody>\n",
       "</table>\n",
       "<p>97 rows × 11 columns</p>\n",
       "</div>"
      ],
      "text/plain": [
       "              Timestamp What is your gender?  Age What is your emotion?  \\\n",
       "0   05/07/2023 09:38:39                 Male   21               Content   \n",
       "1   05/07/2023 09:38:57        Marabou stock   45                 Weird   \n",
       "2   05/07/2023 09:39:09              Female    20                 Happy   \n",
       "3   05/07/2023 09:39:12                 Male   21                 Happy   \n",
       "4   05/07/2023 09:39:14               Female   21                 Happy   \n",
       "..                  ...                  ...  ...                   ...   \n",
       "92  05/07/2023 09:53:56              Female    68                   Sad   \n",
       "93  05/07/2023 09:54:13                 Male   29               Hopeful   \n",
       "94  05/07/2023 09:54:28                 Male   22      Fighting poverty   \n",
       "95  05/07/2023 09:54:36                 Male   23          good and bad   \n",
       "96  05/07/2023 09:54:52                 male   30                hunger   \n",
       "\n",
       "   Year of birth What is your CGPA? Do you have a Girl Friend or BOY Friend  \\\n",
       "0           2002               4.22                                      No   \n",
       "1           2100                8.9                                     Yes   \n",
       "2           2002               3.98                                      No   \n",
       "3           2003               4.37                                      No   \n",
       "4           2002               3.63                                      No   \n",
       "..           ...                ...                                     ...   \n",
       "92          1953                4.8                                      No   \n",
       "93          1994   I don't know yet              Sure, multiple girlfriends   \n",
       "94          2001               3.12                Girl friends are thieves   \n",
       "95          2000                3.5                    Namiiro Zahara Bidin   \n",
       "96          2023                  5                                     ARI   \n",
       "\n",
       "   Do you have Depression? Do you have Anxiety? Do you have Panic attack?  \\\n",
       "0                       No                  Yes                       Yes   \n",
       "1                      Yes                  Yes                       Yes   \n",
       "2                       No                  Yes                       Yes   \n",
       "3                       No                   No                        No   \n",
       "4                       No                   No                        No   \n",
       "..                     ...                  ...                       ...   \n",
       "92                     Yes                  Yes                       Yes   \n",
       "93                      No                   No                        No   \n",
       "94                     Yes                  Yes                        No   \n",
       "95                      No                   No                        No   \n",
       "96                      no                 yeah                       nah   \n",
       "\n",
       "   Did you have seek any specialist for a treatment?   \n",
       "0                                                 Yes  \n",
       "1                                                  No  \n",
       "2                                                  No  \n",
       "3                                                Nope  \n",
       "4                                                  No  \n",
       "..                                                ...  \n",
       "92                                                Yes  \n",
       "93                                                 No  \n",
       "94                                                 No  \n",
       "95                                                 No  \n",
       "96                                               yeah  \n",
       "\n",
       "[97 rows x 11 columns]"
      ]
     },
     "execution_count": 14,
     "metadata": {},
     "output_type": "execute_result"
    }
   ],
   "source": [
    "#loading dataset\n",
    "df = pd.read_csv('bsse_dataset.csv')\n",
    "df\n"
   ]
  },
  {
   "attachments": {},
   "cell_type": "markdown",
   "metadata": {},
   "source": [
    "#data analysis workflow\n",
    "#understanding of our dataset preparation\n",
    "#data cleaning-data cleaning,wrong data,wrong format null values,duplicate values\n",
    "#exploratory data analysis(EDA)\n",
    "#insight data visualization\n",
    "#"
   ]
  },
  {
   "cell_type": "code",
   "execution_count": 15,
   "metadata": {},
   "outputs": [
    {
     "data": {
      "text/plain": [
       "Index(['Timestamp', 'What is your gender?', 'Age', 'What is your emotion?',\n",
       "       'Year of birth', 'What is your CGPA?',\n",
       "       'Do you have a Girl Friend or BOY Friend', 'Do you have Depression?',\n",
       "       'Do you have Anxiety?', 'Do you have Panic attack?',\n",
       "       'Did you have seek any specialist for a treatment? '],\n",
       "      dtype='object')"
      ]
     },
     "execution_count": 15,
     "metadata": {},
     "output_type": "execute_result"
    }
   ],
   "source": [
    "#check column names\n",
    "df.columns"
   ]
  },
  {
   "cell_type": "code",
   "execution_count": 17,
   "metadata": {},
   "outputs": [
    {
     "name": "stdout",
     "output_type": "stream",
     "text": [
      "<class 'pandas.core.frame.DataFrame'>\n",
      "RangeIndex: 97 entries, 0 to 96\n",
      "Data columns (total 11 columns):\n",
      " #   Column                                              Non-Null Count  Dtype \n",
      "---  ------                                              --------------  ----- \n",
      " 0   Timestamp                                           97 non-null     object\n",
      " 1   What is your gender?                                97 non-null     object\n",
      " 2   Age                                                 97 non-null     int64 \n",
      " 3   What is your emotion?                               96 non-null     object\n",
      " 4   Year of birth                                       97 non-null     object\n",
      " 5   What is your CGPA?                                  97 non-null     object\n",
      " 6   Do you have a Girl Friend or BOY Friend             97 non-null     object\n",
      " 7   Do you have Depression?                             97 non-null     object\n",
      " 8   Do you have Anxiety?                                97 non-null     object\n",
      " 9   Do you have Panic attack?                           97 non-null     object\n",
      " 10  Did you have seek any specialist for a treatment?   97 non-null     object\n",
      "dtypes: int64(1), object(10)\n",
      "memory usage: 8.5+ KB\n"
     ]
    }
   ],
   "source": [
    "#check for basic information\n",
    "df.info()"
   ]
  },
  {
   "cell_type": "code",
   "execution_count": 18,
   "metadata": {},
   "outputs": [
    {
     "data": {
      "text/plain": [
       "What is your emotion?                                 1\n",
       "Timestamp                                             0\n",
       "What is your gender?                                  0\n",
       "Age                                                   0\n",
       "Year of birth                                         0\n",
       "What is your CGPA?                                    0\n",
       "Do you have a Girl Friend or BOY Friend               0\n",
       "Do you have Depression?                               0\n",
       "Do you have Anxiety?                                  0\n",
       "Do you have Panic attack?                             0\n",
       "Did you have seek any specialist for a treatment?     0\n",
       "dtype: int64"
      ]
     },
     "execution_count": 18,
     "metadata": {},
     "output_type": "execute_result"
    }
   ],
   "source": [
    "#check null values\n",
    "df.isnull().sum().sort_values(ascending=False)"
   ]
  },
  {
   "cell_type": "code",
   "execution_count": 20,
   "metadata": {},
   "outputs": [
    {
     "data": {
      "text/plain": [
       "Age                                                   2\n",
       "What is your emotion?                                 1\n",
       "Timestamp                                             0\n",
       "What is your gender?                                  0\n",
       "Year of birth                                         0\n",
       "What is your CGPA?                                    0\n",
       "Do you have a Girl Friend or BOY Friend               0\n",
       "Do you have Depression?                               0\n",
       "Do you have Anxiety?                                  0\n",
       "Do you have Panic attack?                             0\n",
       "Did you have seek any specialist for a treatment?     0\n",
       "dtype: int64"
      ]
     },
     "execution_count": 20,
     "metadata": {},
     "output_type": "execute_result"
    }
   ],
   "source": [
    "df2= pd.read_csv(\"bsse_dataset2.csv\")\n",
    "df2.isnull().sum().sort_values(ascending=False)"
   ]
  },
  {
   "cell_type": "code",
   "execution_count": 21,
   "metadata": {},
   "outputs": [
    {
     "name": "stdout",
     "output_type": "stream",
     "text": [
      "<class 'pandas.core.frame.DataFrame'>\n",
      "RangeIndex: 102 entries, 0 to 101\n",
      "Data columns (total 11 columns):\n",
      " #   Column                                              Non-Null Count  Dtype  \n",
      "---  ------                                              --------------  -----  \n",
      " 0   Timestamp                                           102 non-null    object \n",
      " 1   What is your gender?                                102 non-null    object \n",
      " 2   Age                                                 100 non-null    float64\n",
      " 3   What is your emotion?                               101 non-null    object \n",
      " 4   Year of birth                                       102 non-null    object \n",
      " 5   What is your CGPA?                                  102 non-null    object \n",
      " 6   Do you have a Girl Friend or BOY Friend             102 non-null    object \n",
      " 7   Do you have Depression?                             102 non-null    object \n",
      " 8   Do you have Anxiety?                                102 non-null    object \n",
      " 9   Do you have Panic attack?                           102 non-null    object \n",
      " 10  Did you have seek any specialist for a treatment?   102 non-null    object \n",
      "dtypes: float64(1), object(10)\n",
      "memory usage: 8.9+ KB\n"
     ]
    }
   ],
   "source": [
    "df2.info()"
   ]
  },
  {
   "cell_type": "code",
   "execution_count": 22,
   "metadata": {},
   "outputs": [
    {
     "data": {
      "text/plain": [
       "Timestamp                                              object\n",
       "What is your gender?                                   object\n",
       "Age                                                   float64\n",
       "What is your emotion?                                  object\n",
       "Year of birth                                          object\n",
       "What is your CGPA?                                     object\n",
       "Do you have a Girl Friend or BOY Friend                object\n",
       "Do you have Depression?                                object\n",
       "Do you have Anxiety?                                   object\n",
       "Do you have Panic attack?                              object\n",
       "Did you have seek any specialist for a treatment?      object\n",
       "dtype: object"
      ]
     },
     "execution_count": 22,
     "metadata": {},
     "output_type": "execute_result"
    }
   ],
   "source": [
    "df2.dtypes"
   ]
  },
  {
   "cell_type": "code",
   "execution_count": 25,
   "metadata": {},
   "outputs": [
    {
     "data": {
      "text/plain": [
       "<Axes: >"
      ]
     },
     "execution_count": 25,
     "metadata": {},
     "output_type": "execute_result"
    },
    {
     "data": {
      "image/png": "[encoded data removed]",
      "text/plain": [
       "<Figure size 2500x1000 with 3 Axes>"
      ]
     },
     "metadata": {},
     "output_type": "display_data"
    }
   ],
   "source": [
    "import missingno as msno\n",
    "msno.bar(df2,color=\"gray\",fontsize=20)"
   ]
  },
  {
   "cell_type": "code",
   "execution_count": 28,
   "metadata": {},
   "outputs": [
    {
     "name": "stdout",
     "output_type": "stream",
     "text": [
      "matplotlib is already installed.\n",
      "pandas is already installed.\n"
     ]
    }
   ],
   "source": [
    "import importlib\n",
    "\n",
    "def check_library(library_name):\n",
    "    try:\n",
    "        importlib.import_module(library_name)\n",
    "        print(f\"{library_name} is already installed.\")\n",
    "    except ImportError:\n",
    "        print(f\"{library_name} is not installed.\")\n",
    "\n",
    "# Usage example\n",
    "check_library(\"matplotlib\")\n",
    "check_library(\"pandas\")\n"
   ]
  },
  {
   "cell_type": "code",
   "execution_count": 29,
   "metadata": {},
   "outputs": [
    {
     "name": "stdout",
     "output_type": "stream",
     "text": [
      "Timestamp ---- ['05/07/2023 09:38:39' '05/07/2023 09:38:57' '05/07/2023 09:39:09'\n",
      " '05/07/2023 09:39:12' '05/07/2023 09:39:14' '05/07/2023 09:39:20'\n",
      " '05/07/2023 09:39:21' '05/07/2023 09:39:23' '05/07/2023 09:39:26'\n",
      " '05/07/2023 09:39:27' '05/07/2023 09:39:28' '05/07/2023 09:39:33'\n",
      " '05/07/2023 09:39:38' '05/07/2023 09:39:40' '05/07/2023 09:39:45'\n",
      " '05/07/2023 09:39:46' '05/07/2023 09:39:47' '05/07/2023 09:39:49'\n",
      " '05/07/2023 09:39:50' '05/07/2023 09:39:54' '05/07/2023 09:39:56'\n",
      " '05/07/2023 09:40:00' '05/07/2023 09:40:01' '05/07/2023 09:40:02'\n",
      " '05/07/2023 09:40:08' '05/07/2023 09:40:10' '05/07/2023 09:40:12'\n",
      " '05/07/2023 09:40:13' '05/07/2023 09:40:16' '05/07/2023 09:40:25'\n",
      " '05/07/2023 09:40:26' '05/07/2023 09:40:27' '05/07/2023 09:40:33'\n",
      " '05/07/2023 09:40:34' '05/07/2023 09:40:40' '05/07/2023 09:40:42'\n",
      " '05/07/2023 09:40:46' '05/07/2023 09:40:47' '05/07/2023 09:40:54'\n",
      " '05/07/2023 09:40:59' '05/07/2023 09:41:00' '05/07/2023 09:41:01'\n",
      " '05/07/2023 09:41:05' '05/07/2023 09:41:06' '05/07/2023 09:41:07'\n",
      " '05/07/2023 09:41:08' '05/07/2023 09:41:11' '05/07/2023 09:41:18'\n",
      " '05/07/2023 09:41:19' '05/07/2023 09:41:20' '05/07/2023 09:41:25'\n",
      " '05/07/2023 09:41:30' '05/07/2023 09:41:31' '05/07/2023 09:41:33'\n",
      " '05/07/2023 09:41:35' '05/07/2023 09:41:36' '05/07/2023 09:41:40'\n",
      " '05/07/2023 09:41:41' '05/07/2023 09:41:42' '05/07/2023 09:41:47'\n",
      " '05/07/2023 09:41:56' '05/07/2023 09:41:58' '05/07/2023 09:42:04'\n",
      " '05/07/2023 09:42:15' '05/07/2023 09:42:17' '05/07/2023 09:42:39'\n",
      " '05/07/2023 09:42:48' '05/07/2023 09:43:05' '05/07/2023 09:43:08'\n",
      " '05/07/2023 09:43:22' '05/07/2023 09:43:36' '05/07/2023 09:43:56'\n",
      " '05/07/2023 09:44:09' '05/07/2023 09:44:14' '05/07/2023 09:44:15'\n",
      " '05/07/2023 09:44:35' '05/07/2023 09:45:13' '05/07/2023 09:45:38'\n",
      " '05/07/2023 09:45:40' '05/07/2023 09:49:52' '05/07/2023 09:51:39'\n",
      " '05/07/2023 09:51:52' '05/07/2023 09:52:27' '05/07/2023 09:52:57'\n",
      " '05/07/2023 09:53:52' '05/07/2023 09:53:56' '05/07/2023 09:54:13'\n",
      " '05/07/2023 09:54:28' '05/07/2023 09:54:36' '05/07/2023 09:54:52'\n",
      " '05/07/2023 09:56:37' '05/07/2023 09:59:18' '05/07/2023 10:11:02'\n",
      " '05/07/2023 10:17:36' '05/07/2023 10:47:51']\n",
      "What is your gender? ---- ['Male' 'Marabou stock' 'Female ' 'Female' 'female' 'MALE' 'FEMALE' 'male'\n",
      " 'Yes' 'M']\n",
      "Age ---- [21. 45. 20. 23. 22. 24. 25. 28. 19. nan 50. 30. 68. 29.]\n",
      "What is your emotion? ---- ['Content' 'Weird' 'Happy' 'Happy ' 'irritated ' 'In a state of wonder'\n",
      " 'Sad' 'happy' 'Moody' 'fine' 'TIRED FOR NOW' 'Jolly' 'Frustrated'\n",
      " 'Anxious' 'HAPPY' 'calm' 'sad' 'Not sure' 'I hate nosense ' 'Joyful'\n",
      " 'Nonchalant ' 'excited' 'stressed' 'Relaxed' 'Angry ' 'leaning'\n",
      " 'Disgusted' 'Tired' 'Upset' 'Anger' 'angry' 'Sad ' 'Lonely' 'Happiness'\n",
      " 'sleepy' 'tired' 'stress' 'unhappy' 'happy ' 'care' nan 'Afraid '\n",
      " 'Scared' 'HAPPY ' 'Joy' 'Lonely ' 'panic' 'Hopeful' 'Fighting poverty'\n",
      " 'good and bad' 'hunger' 'Grateful ' 'Yes']\n",
      "Year of birth ---- ['2002' '2100' '2003' '2000' '2001' '1998' '1995' '2004' '1999' '2022'\n",
      " '1970' '18/11/1993' '5.10.2000' '10th/04/2001' '1st July 2002' '1953'\n",
      " '1994' '2023' '31/12/2001']\n",
      "What is your CGPA? ---- ['4.22' '8.9' '3.98' '4.37' '3.63' '3.8' '3.88' '3.79' '4.7' '4' '3.9'\n",
      " '3.56' '5' '3' '4.5' '4.68' '4.28' '3.76' '2.1' '3.7' '3.5' '4......'\n",
      " '3.6' '3.74' '3.67' '4.08' '4.16' '4.4' '4.6' '3.92' '3.87' '1.3' '4.65'\n",
      " '4.74' '4.03' '3.71' '4.1' '2.5' '2' '3.4' '4.26' '3.75' '4.2' '3.85'\n",
      " '3.1' '4.46' '3.18' '1' '3.66' '4.8' '4.9' '4.25' '4.52' '3.11' '4.83'\n",
      " '2.79' '3.3' '2.3' '3.78' \"I don't know yet\" '3.12' '2.88' '3.2']\n",
      "Do you have a Girl Friend or BOY Friend ---- ['No' 'Yes' 'no' 'Nope' 'yes' 'NO' 'YES' 'Yes ' 'Am a girl' 'Am a girl '\n",
      " 'Sure, multiple girlfriends' 'Girl friends are thieves'\n",
      " 'Namiiro Zahara Bidin' 'ARI']\n",
      "Do you have Depression? ---- ['No' 'Yes' 'no' 'Nope' \"don't know\" 'NO' 'MAYBE' 'yes' 'Jo' 'none'\n",
      " 'Probably' 'abit' 'NO ']\n",
      "Do you have Anxiety? ---- ['Yes' 'No' 'no' \"I'm calm\" 'yes' 'KINDA' 'YES' 'No ' 'none' 'Yes '\n",
      " 'sometimes' 'Sometimes' 'not so ' 'swimming' 'Nope' 'NO' 'A little '\n",
      " 'yeah']\n",
      "Do you have Panic attack? ---- ['Yes' 'No' 'yes ' 'Naaah' 'no' 'NO' 'yes' 'No ' 'none' 'YesNo' 'never'\n",
      " 'Nope ' 'nah']\n",
      "Did you have seek any specialist for a treatment?  ---- ['Yes' 'No' 'Nope' 'yes' 'YES' 'NO' 'no' 'No ' 'yeah']\n"
     ]
    }
   ],
   "source": [
    "#check unique values #shows\n",
    "for i in df2.columns:\n",
    "    print(i, \"----\",df2[i].unique())"
   ]
  }
 ],
 "metadata": {
  "kernelspec": {
   "display_name": "Python 3",
   "language": "python",
   "name": "python3"
  },
  "language_info": {
   "codemirror_mode": {
    "name": "ipython",
    "version": 3
   },
   "file_extension": ".py",
   "mimetype": "text/x-python",
   "name": "python",
   "nbconvert_exporter": "python",
   "pygments_lexer": "ipython3",
   "version": "3.11.4"
  },
  "orig_nbformat": 4
 },
 "nbformat": 4,
 "nbformat_minor": 2
}
